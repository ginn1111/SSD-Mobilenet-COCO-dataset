{
 "cells": [
  {
   "cell_type": "code",
   "execution_count": null,
   "metadata": {},
   "outputs": [],
   "source": [
    "import os\n",
    "import tensorflow as tf\n",
    "from object_detection.utils import config_util\n",
    "from object_detection.protos import pipeline_pb2\n",
    "from google.protobuf import text_format\n",
    "\n",
    "ROOT_PATH_DRIVE = \"/content/drive/MyDrive/Năm 4/Kỳ 2/Xây dựng các hệ thống nhúng - T.Kiên/Project\"\n",
    "RECORD_PATH = os.path.join(ROOT_PATH_DRIVE, \"coco_dataset\", \"tfrecord\")\n",
    "CUSTOM_MODEL_NAME = \"ssd_mobilenet_model\"\n",
    "PRETRAINED_MODEL_NAME = \"ssd_mobilenet_v2_fpnlite_320x320_coco17_tpu-8\"\n",
    "PRETRAINED_MODEL_URL = \"http://download.tensorflow.org/models/object_detection/tf2/20200711/ssd_mobilenet_v2_fpnlite_320x320_coco17_tpu-8.tar.gz\"\n",
    "TF_RECORD_SCRIPT_NAME = \"generate_tfrecord.py\"\n",
    "LABEL_MAP_NAME = \"label_map.pbtxt\"\n",
    "\n",
    "paths = {\n",
    "    \"WORKSPACE_PATH\": os.path.join(\"Tensorflow\", \"workspace\"),\n",
    "    \"SCRIPTS_PATH\": os.path.join(\"Tensorflow\", \"scripts\"),\n",
    "    \"APIMODEL_PATH\": os.path.join(\"Tensorflow\", \"models\"),\n",
    "    \"ANNOTATION_PATH\": os.path.join(\"Tensorflow\", \"workspace\", \"annotations\"),\n",
    "    \"MODEL_PATH\": os.path.join(\"Tensorflow\", \"workspace\", \"models\"),\n",
    "    \"PRETRAINED_MODEL_PATH\": os.path.join(\"Tensorflow\", \"workspace\", \"pre-trained-models\"),\n",
    "    \"MY_MODEL_PATH\": os.path.join(\"Tensorflow\", \"workspace\", \"models\", CUSTOM_MODEL_NAME),\n",
    "    \"CHECKPOINT_PATH\": os.path.join(\"Tensorflow\", \"workspace\", \"models\", CUSTOM_MODEL_NAME, \"checkpoint\"),\n",
    "    \"OUTPUT_PATH\": os.path.join(\"Tensorflow\", \"workspace\", \"models\", CUSTOM_MODEL_NAME, \"export\"),\n",
    "    \"TFJS_PATH\": os.path.join(\"Tensorflow\", \"workspace\", \"models\", CUSTOM_MODEL_NAME, \"tfjsexport\"),\n",
    "    \"TFLITE_PATH\": os.path.join(\"Tensorflow\", \"workspace\", \"models\", CUSTOM_MODEL_NAME, \"tfliteexport\"),\n",
    "    \"PROTOC_PATH\": os.path.join(\"Tensorflow\", \"protoc\"),\n",
    "}\n",
    "\n",
    "files = {\n",
    "    \"PIPELINE_CONFIG\": os.path.join(paths[\"MY_MODEL_PATH\"], \"pipeline.config\"),\n",
    "    \"TF_RECORD_SCRIPT\": os.path.join(paths[\"SCRIPTS_PATH\"], TF_RECORD_SCRIPT_NAME),\n",
    "    \"LABELMAP\": os.path.join(ROOT_PATH_DRIVE, \"label_map.pbtxt\"),\n",
    "    \"TRAIN_RECORD\": os.path.join(RECORD_PATH, \"train\", \"train.tfrecord\"),\n",
    "    \"VAL_RECORD\": os.path.join(RECORD_PATH, \"val\", \"val.tfrecord\"),\n",
    "}\n"
   ]
  },
  {
   "cell_type": "code",
   "execution_count": null,
   "metadata": {},
   "outputs": [],
   "source": [
    "# Creating workspace folder\n",
    "for path in paths.values():\n",
    "  if not os.path.exists(path):\n",
    "    if os.name == 'posix':\n",
    "      !mkdir -p {path}"
   ]
  },
  {
   "cell_type": "code",
   "execution_count": null,
   "metadata": {},
   "outputs": [],
   "source": [
    "# Clone API\n",
    "if not os.path.exists(os.path.join(paths['APIMODEL_PATH'], 'research', 'object_detection')):\n",
    "    !git clone https://github.com/tensorflow/models {paths['APIMODEL_PATH']}"
   ]
  },
  {
   "cell_type": "code",
   "execution_count": null,
   "metadata": {},
   "outputs": [],
   "source": [
    "# Install Tensorflow object detection and compile these\n",
    "!apt-get install protobuf-compiler\n",
    "!cd Tensorflow/models/research && protoc object_detection/protos/*.proto --python_out=. && cp object_detection/packages/tf2/setup.py . && python -m pip install . "
   ]
  },
  {
   "cell_type": "code",
   "execution_count": null,
   "metadata": {},
   "outputs": [],
   "source": [
    "# Verify installation\n",
    "VERIFICATION_SCRIPT = os.path.join(paths['APIMODEL_PATH'], 'research', 'object_detection', 'builders', 'model_builder_tf2_test.py')\n",
    "!python {VERIFICATION_SCRIPT}"
   ]
  },
  {
   "cell_type": "code",
   "execution_count": null,
   "metadata": {},
   "outputs": [],
   "source": [
    "# Download pre-trained model\n",
    "!wget {PRETRAINED_MODEL_URL}\n",
    "!mv {PRETRAINED_MODEL_NAME+'.tar.gz'} {paths['PRETRAINED_MODEL_PATH']}\n",
    "!cd {paths['PRETRAINED_MODEL_PATH']} && tar -zxvf {PRETRAINED_MODEL_NAME+'.tar.gz'}"
   ]
  },
  {
   "cell_type": "code",
   "execution_count": null,
   "metadata": {},
   "outputs": [],
   "source": [
    "# Get pipeline.config\n",
    "!cp {os.path.join(paths['PRETRAINED_MODEL_PATH'], PRETRAINED_MODEL_NAME, 'pipeline.config')} {os.path.join(paths['MY_MODEL_PATH'])}"
   ]
  },
  {
   "cell_type": "code",
   "execution_count": null,
   "metadata": {},
   "outputs": [],
   "source": [
    "# Config pipeline.config\n",
    "FINE_TUNE_CP_FILE = os.path.join(paths[\"PRETRAINED_MODEL_PATH\"], PRETRAINED_MODEL_NAME, \"checkpoint\", \"ckpt-0\")\n",
    "\n",
    "config = config_util.get_configs_from_pipeline_file(files[\"PIPELINE_CONFIG\"])\n",
    "\n",
    "pipeline_config = pipeline_pb2.TrainEvalPipelineConfig()\n",
    "\n",
    "with tf.io.gfile.GFile(files[\"PIPELINE_CONFIG\"], \"r\") as f:\n",
    "    proto_str = f.read()\n",
    "    text_format.Merge(proto_str, pipeline_config)\n",
    "\n",
    "pipeline_config.model.ssd.num_classes = 16  # 16 labels\n",
    "pipeline_config.train_config.batch_size = 4\n",
    "pipeline_config.train_config.fine_tune_checkpoint = FINE_TUNE_CP_FILE  # restore checkpoint\n",
    "pipeline_config.train_config.fine_tune_checkpoint_type = \"detection\"  # type train\n",
    "pipeline_config.train_input_reader.label_map_path = files[\"LABELMAP\"]\n",
    "pipeline_config.eval_input_reader[0].label_map_path = files[\"LABELMAP\"]\n",
    "\n",
    "pipeline_config.train_input_reader.tf_record_input_reader.input_path[:] = [files[\"TRAIN_RECORD\"]]  # TFRecord Train file\n",
    "pipeline_config.eval_input_reader[0].tf_record_input_reader.input_path[:] = [\n",
    "    files[\"VAL_RECORD\"]\n",
    "]  # TFRecord Validation file\n",
    "\n",
    "config_text = text_format.MessageToString(pipeline_config)\n",
    "with tf.io.gfile.GFile(files[\"PIPELINE_CONFIG\"], \"wb\") as f:\n",
    "    f.write(config_text)\n"
   ]
  },
  {
   "cell_type": "code",
   "execution_count": null,
   "metadata": {},
   "outputs": [],
   "source": [
    "# Train model\n",
    "TRAINING_SCRIPT = os.path.join(paths[\"APIMODEL_PATH\"], \"research\", \"object_detection\", \"model_main_tf2.py\")\n",
    "command = \"python {} --model_dir={} --pipeline_config_path={} --num_train_steps=2000\".format(\n",
    "    TRAINING_SCRIPT, paths[\"MY_MODEL_PATH\"], files[\"PIPELINE_CONFIG\"]\n",
    ")\n",
    "!{command}\n"
   ]
  },
  {
   "cell_type": "code",
   "execution_count": null,
   "metadata": {},
   "outputs": [],
   "source": [
    "# Evaluation model\n",
    "command = \"python {} --model_dir={} --pipeline_config_path={} --checkpoint_dir={}\".format(\n",
    "    TRAINING_SCRIPT, paths[\"MY_MODEL_PATH\"], files[\"PIPELINE_CONFIG\"], paths[\"CHECKPOINT_PATH\"]\n",
    ")\n"
   ]
  }
 ],
 "metadata": {
  "language_info": {
   "name": "python"
  },
  "orig_nbformat": 4
 },
 "nbformat": 4,
 "nbformat_minor": 2
}
